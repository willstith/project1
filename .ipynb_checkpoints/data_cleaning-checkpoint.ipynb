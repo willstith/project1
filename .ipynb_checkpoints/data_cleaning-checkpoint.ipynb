{
 "cells": [
  {
   "cell_type": "code",
   "execution_count": 1,
   "metadata": {
    "ExecuteTime": {
     "end_time": "2020-07-01T21:26:33.688611Z",
     "start_time": "2020-07-01T21:26:32.898903Z"
    }
   },
   "outputs": [],
   "source": [
    "import pandas as pd\n",
    "import numpy as np\n",
    "import matplotlib.pyplot as plt\n",
    "import datetime\n",
    "from datetime import datetime as dt\n",
    "\n",
    "%matplotlib inline"
   ]
  },
  {
   "cell_type": "code",
   "execution_count": 2,
   "metadata": {
    "ExecuteTime": {
     "end_time": "2020-07-01T21:26:35.388714Z",
     "start_time": "2020-07-01T21:26:33.691773Z"
    }
   },
   "outputs": [],
   "source": [
    "df1 = pd.read_csv(\"/Users/stephan/Data_Science/Metis/Bootcamp/Data_project1/turnstile_190504.txt\")\n",
    "df2 = pd.read_csv(\"/Users/stephan/Data_Science/Metis/Bootcamp/Data_project1/turnstile_190511.txt\")\n",
    "df3 = pd.read_csv(\"/Users/stephan/Data_Science/Metis/Bootcamp/Data_project1/turnstile_190518.txt\")\n",
    "df4 = pd.read_csv(\"/Users/stephan/Data_Science/Metis/Bootcamp/Data_project1/turnstile_190525.txt\")\n",
    "raw_data = pd.concat([df1,df2,df3,df4])"
   ]
  },
  {
   "cell_type": "markdown",
   "metadata": {},
   "source": [
    "We found that the `EXITS` column contains trailing spaces, so we get rid of those"
   ]
  },
  {
   "cell_type": "code",
   "execution_count": 3,
   "metadata": {
    "ExecuteTime": {
     "end_time": "2020-07-01T21:26:35.404939Z",
     "start_time": "2020-07-01T21:26:35.392698Z"
    }
   },
   "outputs": [],
   "source": [
    "raw_data.columns = raw_data.columns.str.rstrip()"
   ]
  },
  {
   "cell_type": "markdown",
   "metadata": {
    "ExecuteTime": {
     "end_time": "2020-07-01T21:07:21.552058Z",
     "start_time": "2020-07-01T21:07:21.534664Z"
    }
   },
   "source": [
    "Adding a Datetime column"
   ]
  },
  {
   "cell_type": "code",
   "execution_count": 4,
   "metadata": {
    "ExecuteTime": {
     "end_time": "2020-07-01T21:26:36.820984Z",
     "start_time": "2020-07-01T21:26:36.170342Z"
    },
    "colab": {},
    "colab_type": "code",
    "id": "cm4s0832G35p"
   },
   "outputs": [],
   "source": [
    "raw_data[\"DATE_TIME\"] = pd.to_datetime(raw_data.DATE + \" \" + raw_data.TIME, \n",
    "                                            format=\"%m/%d/%Y %H:%M:%S\")"
   ]
  },
  {
   "cell_type": "markdown",
   "metadata": {},
   "source": [
    "The data is organized by turnstile, but does not have a direct unique identifier for each turnstile. To create one we add the column `ID`, which concatenates into a unique turnstile ID."
   ]
  },
  {
   "cell_type": "code",
   "execution_count": 5,
   "metadata": {
    "ExecuteTime": {
     "end_time": "2020-07-01T21:26:39.618716Z",
     "start_time": "2020-07-01T21:26:39.232620Z"
    }
   },
   "outputs": [],
   "source": [
    "raw_data[\"ID\"] = raw_data['C/A']+raw_data['UNIT']+raw_data['SCP']+raw_data['STATION']"
   ]
  },
  {
   "cell_type": "markdown",
   "metadata": {},
   "source": [
    "The data contains duplicates, so we deal with those next"
   ]
  },
  {
   "cell_type": "code",
   "execution_count": 6,
   "metadata": {
    "ExecuteTime": {
     "end_time": "2020-07-01T21:26:41.970066Z",
     "start_time": "2020-07-01T21:26:41.182686Z"
    },
    "colab": {},
    "colab_type": "code",
    "id": "rnyDrnbjG36C",
    "outputId": "e91abcc8-0eca-4a12-9505-141ceb245fb4"
   },
   "outputs": [
    {
     "data": {
      "text/html": [
       "<div>\n",
       "<style scoped>\n",
       "    .dataframe tbody tr th:only-of-type {\n",
       "        vertical-align: middle;\n",
       "    }\n",
       "\n",
       "    .dataframe tbody tr th {\n",
       "        vertical-align: top;\n",
       "    }\n",
       "\n",
       "    .dataframe thead th {\n",
       "        text-align: right;\n",
       "    }\n",
       "</style>\n",
       "<table border=\"1\" class=\"dataframe\">\n",
       "  <thead>\n",
       "    <tr style=\"text-align: right;\">\n",
       "      <th></th>\n",
       "      <th>ID</th>\n",
       "      <th>DATE_TIME</th>\n",
       "      <th>ENTRIES</th>\n",
       "    </tr>\n",
       "  </thead>\n",
       "  <tbody>\n",
       "    <tr>\n",
       "      <th>118612</th>\n",
       "      <td>G009R15102-00-04CONEY IS-STILLW</td>\n",
       "      <td>2019-05-16 17:00:00</td>\n",
       "      <td>2</td>\n",
       "    </tr>\n",
       "    <tr>\n",
       "      <th>118444</th>\n",
       "      <td>G009R15102-00-03CONEY IS-STILLW</td>\n",
       "      <td>2019-05-16 17:00:00</td>\n",
       "      <td>2</td>\n",
       "    </tr>\n",
       "    <tr>\n",
       "      <th>408244</th>\n",
       "      <td>N525R14201-00-03DELANCEY/ESSEX</td>\n",
       "      <td>2019-05-11 05:00:00</td>\n",
       "      <td>2</td>\n",
       "    </tr>\n",
       "    <tr>\n",
       "      <th>408415</th>\n",
       "      <td>N525R14201-00-04DELANCEY/ESSEX</td>\n",
       "      <td>2019-05-11 05:00:00</td>\n",
       "      <td>2</td>\n",
       "    </tr>\n",
       "    <tr>\n",
       "      <th>0</th>\n",
       "      <td>A002R05102-00-0059 ST</td>\n",
       "      <td>2019-04-27 00:00:00</td>\n",
       "      <td>1</td>\n",
       "    </tr>\n",
       "  </tbody>\n",
       "</table>\n",
       "</div>"
      ],
      "text/plain": [
       "                                     ID           DATE_TIME  ENTRIES\n",
       "118612  G009R15102-00-04CONEY IS-STILLW 2019-05-16 17:00:00        2\n",
       "118444  G009R15102-00-03CONEY IS-STILLW 2019-05-16 17:00:00        2\n",
       "408244   N525R14201-00-03DELANCEY/ESSEX 2019-05-11 05:00:00        2\n",
       "408415   N525R14201-00-04DELANCEY/ESSEX 2019-05-11 05:00:00        2\n",
       "0                 A002R05102-00-0059 ST 2019-04-27 00:00:00        1"
      ]
     },
     "execution_count": 6,
     "metadata": {},
     "output_type": "execute_result"
    }
   ],
   "source": [
    "# Sanity Check to verify that \"C/A\", \"UNIT\", \"SCP\", \"STATION\", \"DATE_TIME\" is unique\n",
    "(raw_data\n",
    " .groupby([\"ID\", \"DATE_TIME\"])\n",
    " .ENTRIES.count()\n",
    " .reset_index()\n",
    " .sort_values(\"ENTRIES\", ascending=False)).head(5)"
   ]
  },
  {
   "cell_type": "code",
   "execution_count": 7,
   "metadata": {
    "ExecuteTime": {
     "end_time": "2020-07-01T21:26:43.245534Z",
     "start_time": "2020-07-01T21:26:42.317437Z"
    },
    "colab": {},
    "colab_type": "code",
    "id": "xrmUE6NWG36O"
   },
   "outputs": [],
   "source": [
    "# Get rid of the duplicate entry\n",
    "raw_data.sort_values([\"ID\", \"DATE_TIME\"], \n",
    "                          inplace=True, ascending=False)\n",
    "raw_data.drop_duplicates(subset=[\"ID\", \"DATE_TIME\"], inplace=True)"
   ]
  },
  {
   "cell_type": "markdown",
   "metadata": {},
   "source": [
    "In our design phase we decided to give our recommendations to the client in the form of stations to canvas, so we will group our data by station. We also move towards daily entries and exits instead of per 4 hours.\n",
    "\n",
    "The data given for `ENTRIES` and `EXITS` is cumulative, so aggregating by the first value for each day gives us the cumulative count at the start of each day. We then calculate the difference between days to get the daily numbers"
   ]
  },
  {
   "cell_type": "code",
   "execution_count": 8,
   "metadata": {
    "ExecuteTime": {
     "end_time": "2020-07-01T21:26:44.017504Z",
     "start_time": "2020-07-01T21:26:43.686473Z"
    }
   },
   "outputs": [
    {
     "name": "stderr",
     "output_type": "stream",
     "text": [
      "<ipython-input-8-e4c4f74c44e4>:1: FutureWarning: Indexing with multiple keys (implicitly converted to a tuple of keys) will be deprecated, use a list instead.\n",
      "  data_by_station = raw_data.groupby(['STATION','ID','DATE'])['ENTRIES', 'EXITS'].first().diff()\n"
     ]
    }
   ],
   "source": [
    "data_by_station = raw_data.groupby(['STATION','ID','DATE'])['ENTRIES', 'EXITS'].first().diff()\n",
    "data_by_station.reset_index()\n",
    "data_by_station.dropna(subset=[\"ENTRIES\",\"EXITS\"], axis=0, inplace=True)"
   ]
  },
  {
   "cell_type": "markdown",
   "metadata": {},
   "source": [
    "First analysis of the resulting data shows some problems\n",
    "* negative values, indicating turnstile tickers that count down instead of up\n",
    "* Very large values that indicate a reset of a ticker\n",
    "\n",
    "We take the absolute values for the negative ticker data and set a limit for the maximum reasonable value of people going through a turnstile. Our limit is based on a max of 1 person per second, or 86400 a day. Anything higher than this number, we replace with 0."
   ]
  },
  {
   "cell_type": "code",
   "execution_count": 9,
   "metadata": {
    "ExecuteTime": {
     "end_time": "2020-07-01T21:27:03.979730Z",
     "start_time": "2020-07-01T21:26:47.084284Z"
    }
   },
   "outputs": [],
   "source": [
    "def get_daily_counts_entries(row, max_counter):\n",
    "    if row[\"ENTRIES\"] < 0:\n",
    "        # Maybe counter is reversed?\n",
    "        row[\"ENTRIES\"] = abs(row[\"ENTRIES\"])\n",
    "    if row[\"ENTRIES\"] > max_counter:\n",
    "        # Check it again to make sure we're not still giving a counter that's too big\n",
    "        row[\"ENTRIES\"] = 0\n",
    "    return row[\"ENTRIES\"]\n",
    "\n",
    "data_by_station[\"ENTRIES\"] = data_by_station.apply(get_daily_counts_entries, axis=1, max_counter=86400)"
   ]
  },
  {
   "cell_type": "code",
   "execution_count": 10,
   "metadata": {
    "ExecuteTime": {
     "end_time": "2020-07-01T21:27:22.218491Z",
     "start_time": "2020-07-01T21:27:03.983063Z"
    }
   },
   "outputs": [],
   "source": [
    "def get_daily_counts_exits(row, max_counter):\n",
    "    if row[\"EXIT\"] < 0:\n",
    "        # Maybe counter is reversed?\n",
    "        row[\"EXIT\"] = abs(row[\"EXIT\"])\n",
    "    if row[\"ENTRIES\"] > max_counter:\n",
    "        # Check it again to make sure we're not still giving a counter that's too big\n",
    "        row[\"EXIT\"] = 0\n",
    "    return row[\"EXIT\"]\n",
    "\n",
    "data_by_station[\"EXITS\"] = data_by_station.apply(get_daily_counts_entries, axis=1, max_counter=86400)"
   ]
  },
  {
   "cell_type": "code",
   "execution_count": 11,
   "metadata": {
    "ExecuteTime": {
     "end_time": "2020-07-01T21:28:25.486596Z",
     "start_time": "2020-07-01T21:28:25.470377Z"
    }
   },
   "outputs": [],
   "source": [
    "data_by_station[\"TRAFFIC\"] = data_by_station.ENTRIES + data_by_station.EXITS"
   ]
  }
 ],
 "metadata": {
  "kernelspec": {
   "display_name": "Python [conda env:metis] *",
   "language": "python",
   "name": "conda-env-metis-py"
  },
  "language_info": {
   "codemirror_mode": {
    "name": "ipython",
    "version": 3
   },
   "file_extension": ".py",
   "mimetype": "text/x-python",
   "name": "python",
   "nbconvert_exporter": "python",
   "pygments_lexer": "ipython3",
   "version": "3.8.3"
  }
 },
 "nbformat": 4,
 "nbformat_minor": 4
}
