{
 "cells": [
  {
   "cell_type": "code",
   "execution_count": 1,
   "metadata": {
    "ExecuteTime": {
     "end_time": "2020-07-01T21:26:33.688611Z",
     "start_time": "2020-07-01T21:26:32.898903Z"
    }
   },
   "outputs": [],
   "source": [
    "import pandas as pd\n",
    "import numpy as np\n",
    "import matplotlib.pyplot as plt\n",
    "import datetime\n",
    "from datetime import datetime as dt\n",
    "import re\n",
    "\n",
    "%matplotlib inline"
   ]
  },
  {
   "cell_type": "code",
   "execution_count": 2,
   "metadata": {
    "ExecuteTime": {
     "end_time": "2020-07-01T21:26:35.388714Z",
     "start_time": "2020-07-01T21:26:33.691773Z"
    }
   },
   "outputs": [],
   "source": [
    "df1 = pd.read_csv(\"http://web.mta.info/developers/data/nyct/turnstile/turnstile_190504.txt\")\n",
    "df2 = pd.read_csv(\"http://web.mta.info/developers/data/nyct/turnstile/turnstile_190511.txt\")\n",
    "df3 = pd.read_csv(\"http://web.mta.info/developers/data/nyct/turnstile/turnstile_190518.txt\")\n",
    "df4 = pd.read_csv(\"http://web.mta.info/developers/data/nyct/turnstile/turnstile_190525.txt\")\n",
    "raw_data = pd.concat([df1,df2,df3,df4])"
   ]
  },
  {
   "cell_type": "markdown",
   "metadata": {},
   "source": [
    "We found that the `EXITS` column contains trailing spaces, so we get rid of those"
   ]
  },
  {
   "cell_type": "code",
   "execution_count": 3,
   "metadata": {
    "ExecuteTime": {
     "end_time": "2020-07-01T21:26:35.404939Z",
     "start_time": "2020-07-01T21:26:35.392698Z"
    }
   },
   "outputs": [],
   "source": [
    "raw_data.columns = raw_data.columns.str.rstrip()"
   ]
  },
  {
   "cell_type": "markdown",
   "metadata": {
    "ExecuteTime": {
     "end_time": "2020-07-01T21:07:21.552058Z",
     "start_time": "2020-07-01T21:07:21.534664Z"
    }
   },
   "source": [
    "Adding a Datetime column"
   ]
  },
  {
   "cell_type": "code",
   "execution_count": 4,
   "metadata": {
    "ExecuteTime": {
     "end_time": "2020-07-01T21:26:36.820984Z",
     "start_time": "2020-07-01T21:26:36.170342Z"
    },
    "colab": {},
    "colab_type": "code",
    "id": "cm4s0832G35p"
   },
   "outputs": [],
   "source": [
    "raw_data[\"DATE_TIME\"] = pd.to_datetime(raw_data.DATE + \" \" + raw_data.TIME, \n",
    "                                            format=\"%m/%d/%Y %H:%M:%S\")"
   ]
  },
  {
   "cell_type": "markdown",
   "metadata": {},
   "source": [
    "The data is organized by turnstile, but does not have a direct unique identifier for each turnstile. To create one we add the column `ID`, which concatenates into a unique turnstile ID."
   ]
  },
  {
   "cell_type": "code",
   "execution_count": 5,
   "metadata": {
    "ExecuteTime": {
     "end_time": "2020-07-01T21:26:39.618716Z",
     "start_time": "2020-07-01T21:26:39.232620Z"
    }
   },
   "outputs": [],
   "source": [
    "raw_data[\"ID\"] = raw_data['C/A']+raw_data['UNIT']+raw_data['SCP']+raw_data['STATION']"
   ]
  },
  {
   "cell_type": "markdown",
   "metadata": {},
   "source": [
    "The data contains duplicates, so we deal with those next"
   ]
  },
  {
   "cell_type": "code",
   "execution_count": 6,
   "metadata": {
    "ExecuteTime": {
     "end_time": "2020-07-01T21:26:41.970066Z",
     "start_time": "2020-07-01T21:26:41.182686Z"
    },
    "colab": {},
    "colab_type": "code",
    "id": "rnyDrnbjG36C",
    "outputId": "e91abcc8-0eca-4a12-9505-141ceb245fb4"
   },
   "outputs": [
    {
     "data": {
      "text/html": [
       "<div>\n",
       "<style scoped>\n",
       "    .dataframe tbody tr th:only-of-type {\n",
       "        vertical-align: middle;\n",
       "    }\n",
       "\n",
       "    .dataframe tbody tr th {\n",
       "        vertical-align: top;\n",
       "    }\n",
       "\n",
       "    .dataframe thead th {\n",
       "        text-align: right;\n",
       "    }\n",
       "</style>\n",
       "<table border=\"1\" class=\"dataframe\">\n",
       "  <thead>\n",
       "    <tr style=\"text-align: right;\">\n",
       "      <th></th>\n",
       "      <th>ID</th>\n",
       "      <th>DATE_TIME</th>\n",
       "      <th>ENTRIES</th>\n",
       "    </tr>\n",
       "  </thead>\n",
       "  <tbody>\n",
       "    <tr>\n",
       "      <th>118612</th>\n",
       "      <td>G009R15102-00-04CONEY IS-STILLW</td>\n",
       "      <td>2019-05-16 17:00:00</td>\n",
       "      <td>2</td>\n",
       "    </tr>\n",
       "    <tr>\n",
       "      <th>118444</th>\n",
       "      <td>G009R15102-00-03CONEY IS-STILLW</td>\n",
       "      <td>2019-05-16 17:00:00</td>\n",
       "      <td>2</td>\n",
       "    </tr>\n",
       "    <tr>\n",
       "      <th>408244</th>\n",
       "      <td>N525R14201-00-03DELANCEY/ESSEX</td>\n",
       "      <td>2019-05-11 05:00:00</td>\n",
       "      <td>2</td>\n",
       "    </tr>\n",
       "    <tr>\n",
       "      <th>408415</th>\n",
       "      <td>N525R14201-00-04DELANCEY/ESSEX</td>\n",
       "      <td>2019-05-11 05:00:00</td>\n",
       "      <td>2</td>\n",
       "    </tr>\n",
       "    <tr>\n",
       "      <th>0</th>\n",
       "      <td>A002R05102-00-0059 ST</td>\n",
       "      <td>2019-04-27 00:00:00</td>\n",
       "      <td>1</td>\n",
       "    </tr>\n",
       "  </tbody>\n",
       "</table>\n",
       "</div>"
      ],
      "text/plain": [
       "                                     ID           DATE_TIME  ENTRIES\n",
       "118612  G009R15102-00-04CONEY IS-STILLW 2019-05-16 17:00:00        2\n",
       "118444  G009R15102-00-03CONEY IS-STILLW 2019-05-16 17:00:00        2\n",
       "408244   N525R14201-00-03DELANCEY/ESSEX 2019-05-11 05:00:00        2\n",
       "408415   N525R14201-00-04DELANCEY/ESSEX 2019-05-11 05:00:00        2\n",
       "0                 A002R05102-00-0059 ST 2019-04-27 00:00:00        1"
      ]
     },
     "execution_count": 6,
     "metadata": {},
     "output_type": "execute_result"
    }
   ],
   "source": [
    "# Sanity Check to verify that \"C/A\", \"UNIT\", \"SCP\", \"STATION\", \"DATE_TIME\" is unique\n",
    "(raw_data\n",
    " .groupby([\"ID\", \"DATE_TIME\"])\n",
    " .ENTRIES.count()\n",
    " .reset_index()\n",
    " .sort_values(\"ENTRIES\", ascending=False)).head(5)"
   ]
  },
  {
   "cell_type": "code",
   "execution_count": 7,
   "metadata": {
    "ExecuteTime": {
     "end_time": "2020-07-01T21:26:43.245534Z",
     "start_time": "2020-07-01T21:26:42.317437Z"
    },
    "colab": {},
    "colab_type": "code",
    "id": "xrmUE6NWG36O"
   },
   "outputs": [],
   "source": [
    "# Get rid of the duplicate entry\n",
    "raw_data.sort_values([\"ID\", \"DATE_TIME\"], \n",
    "                          inplace=True, ascending=False)\n",
    "raw_data.drop_duplicates(subset=[\"ID\", \"DATE_TIME\"], inplace=True)"
   ]
  },
  {
   "cell_type": "code",
   "execution_count": 8,
   "metadata": {
    "scrolled": false
   },
   "outputs": [
    {
     "data": {
      "text/plain": [
       "00:00:00    69096\n",
       "04:00:00    69092\n",
       "08:00:00    69075\n",
       "16:00:00    69061\n",
       "12:00:00    69049\n",
       "20:00:00    68972\n",
       "21:00:00    50879\n",
       "09:00:00    50873\n",
       "17:00:00    50864\n",
       "05:00:00    50851\n",
       "13:00:00    50833\n",
       "01:00:00    50828\n",
       "18:00:00     3137\n",
       "22:00:00     3136\n",
       "10:00:00     3132\n",
       "02:00:00     3131\n",
       "06:00:00     3128\n",
       "14:00:00     3125\n",
       "15:00:00     1076\n",
       "19:00:00     1076\n",
       "07:00:00     1074\n",
       "11:00:00     1073\n",
       "03:00:00     1066\n",
       "23:00:00     1064\n",
       "20:22:00     1038\n",
       "12:22:00     1037\n",
       "08:22:00     1037\n",
       "00:22:00     1037\n",
       "16:22:00     1036\n",
       "04:22:00     1030\n",
       "22:30:00      563\n",
       "10:30:00      562\n",
       "06:30:00      560\n",
       "18:30:00      560\n",
       "02:30:00      560\n",
       "14:30:00      560\n",
       "08:30:00      340\n",
       "04:30:00      339\n",
       "16:30:00      338\n",
       "00:30:00      336\n",
       "Name: TIME, dtype: int64"
      ]
     },
     "execution_count": 8,
     "metadata": {},
     "output_type": "execute_result"
    }
   ],
   "source": [
    "#check to see if TIME is as neat as it first appears\n",
    "raw_data.TIME.value_counts().head(40)"
   ]
  },
  {
   "cell_type": "code",
   "execution_count": 9,
   "metadata": {
    "scrolled": true
   },
   "outputs": [
    {
     "data": {
      "text/plain": [
       "True     744691\n",
       "False     78294\n",
       "Name: TIME, dtype: int64"
      ]
     },
     "execution_count": 9,
     "metadata": {},
     "output_type": "execute_result"
    }
   ],
   "source": [
    "raw_data.TIME.str.match('..:00:00').value_counts()"
   ]
  },
  {
   "cell_type": "markdown",
   "metadata": {},
   "source": [
    "Turns out the time intervals aren't all neatly every 4 hours. I will need to group the column into more regular intervals to proceed to a simpler analysis. Let's try making a function that will categorize the column that way."
   ]
  },
  {
   "cell_type": "code",
   "execution_count": 10,
   "metadata": {},
   "outputs": [],
   "source": [
    "def get_time_slot(time):\n",
    "    timestr = str(time)\n",
    "    timenum = int(re.sub('[^0-9]', '', timestr))\n",
    "    if 0 <= timenum < 40000:\n",
    "        return '12am - 4am'\n",
    "    elif 40000 <= timenum < 80000:\n",
    "        return '4am - 8am'\n",
    "    elif 80000 <= timenum < 120000:\n",
    "        return '8am - 12pm'\n",
    "    elif 120000 <= timenum < 160000:\n",
    "        return '12pm - 4pm'\n",
    "    elif 160000 <= timenum < 200000:\n",
    "        return '4pm - 8pm'\n",
    "    else:\n",
    "        return '8pm - 12am'"
   ]
  },
  {
   "cell_type": "code",
   "execution_count": 11,
   "metadata": {},
   "outputs": [],
   "source": [
    "raw_data['TIMESLOT'] = raw_data.TIME.apply(get_time_slot)"
   ]
  },
  {
   "cell_type": "code",
   "execution_count": 12,
   "metadata": {
    "scrolled": true
   },
   "outputs": [
    {
     "data": {
      "text/plain": [
       "8am - 12pm    145660\n",
       "4am - 8am     136927\n",
       "4pm - 8pm     136921\n",
       "12pm - 4pm    134958\n",
       "8pm - 12am    134298\n",
       "12am - 4am    134221\n",
       "Name: TIMESLOT, dtype: int64"
      ]
     },
     "execution_count": 12,
     "metadata": {},
     "output_type": "execute_result"
    }
   ],
   "source": [
    "raw_data.TIMESLOT.value_counts()"
   ]
  },
  {
   "cell_type": "markdown",
   "metadata": {},
   "source": [
    "Now there are 6 roughly equal groups of time intervals to analyze."
   ]
  },
  {
   "cell_type": "code",
   "execution_count": 13,
   "metadata": {},
   "outputs": [],
   "source": [
    "#time_mask = (raw_data.TIME.str.match('..:00:00'))\n",
    "# used this line earlier to just work with "
   ]
  },
  {
   "cell_type": "markdown",
   "metadata": {},
   "source": [
    "Let's now create columns which show entries and exits since the last tally, rather than cumulative entries and exits."
   ]
  },
  {
   "cell_type": "code",
   "execution_count": 14,
   "metadata": {},
   "outputs": [],
   "source": [
    "raw_data['NEWENTRIES'] = raw_data['ENTRIES'].diff()\n",
    "raw_data.dropna(subset=['NEWENTRIES'], axis=0, inplace=True)\n",
    "\n",
    "raw_data['NEWEXITS'] = raw_data['EXITS'].diff()\n",
    "raw_data.dropna(subset=['NEWEXITS'], axis=0, inplace=True)"
   ]
  },
  {
   "cell_type": "code",
   "execution_count": 15,
   "metadata": {
    "scrolled": false
   },
   "outputs": [
    {
     "data": {
      "text/html": [
       "<div>\n",
       "<style scoped>\n",
       "    .dataframe tbody tr th:only-of-type {\n",
       "        vertical-align: middle;\n",
       "    }\n",
       "\n",
       "    .dataframe tbody tr th {\n",
       "        vertical-align: top;\n",
       "    }\n",
       "\n",
       "    .dataframe thead th {\n",
       "        text-align: right;\n",
       "    }\n",
       "</style>\n",
       "<table border=\"1\" class=\"dataframe\">\n",
       "  <thead>\n",
       "    <tr style=\"text-align: right;\">\n",
       "      <th></th>\n",
       "      <th>NEWENTRIES</th>\n",
       "      <th>NEWEXITS</th>\n",
       "    </tr>\n",
       "  </thead>\n",
       "  <tbody>\n",
       "    <tr>\n",
       "      <th>203360</th>\n",
       "      <td>0.0</td>\n",
       "      <td>0.0</td>\n",
       "    </tr>\n",
       "    <tr>\n",
       "      <th>203359</th>\n",
       "      <td>0.0</td>\n",
       "      <td>0.0</td>\n",
       "    </tr>\n",
       "    <tr>\n",
       "      <th>203358</th>\n",
       "      <td>0.0</td>\n",
       "      <td>0.0</td>\n",
       "    </tr>\n",
       "    <tr>\n",
       "      <th>203357</th>\n",
       "      <td>0.0</td>\n",
       "      <td>0.0</td>\n",
       "    </tr>\n",
       "    <tr>\n",
       "      <th>203356</th>\n",
       "      <td>0.0</td>\n",
       "      <td>0.0</td>\n",
       "    </tr>\n",
       "    <tr>\n",
       "      <th>...</th>\n",
       "      <td>...</td>\n",
       "      <td>...</td>\n",
       "    </tr>\n",
       "    <tr>\n",
       "      <th>4</th>\n",
       "      <td>-279.0</td>\n",
       "      <td>-50.0</td>\n",
       "    </tr>\n",
       "    <tr>\n",
       "      <th>3</th>\n",
       "      <td>-259.0</td>\n",
       "      <td>-69.0</td>\n",
       "    </tr>\n",
       "    <tr>\n",
       "      <th>2</th>\n",
       "      <td>-100.0</td>\n",
       "      <td>-76.0</td>\n",
       "    </tr>\n",
       "    <tr>\n",
       "      <th>1</th>\n",
       "      <td>-23.0</td>\n",
       "      <td>-35.0</td>\n",
       "    </tr>\n",
       "    <tr>\n",
       "      <th>0</th>\n",
       "      <td>-20.0</td>\n",
       "      <td>-7.0</td>\n",
       "    </tr>\n",
       "  </tbody>\n",
       "</table>\n",
       "<p>822983 rows × 2 columns</p>\n",
       "</div>"
      ],
      "text/plain": [
       "        NEWENTRIES  NEWEXITS\n",
       "203360         0.0       0.0\n",
       "203359         0.0       0.0\n",
       "203358         0.0       0.0\n",
       "203357         0.0       0.0\n",
       "203356         0.0       0.0\n",
       "...            ...       ...\n",
       "4           -279.0     -50.0\n",
       "3           -259.0     -69.0\n",
       "2           -100.0     -76.0\n",
       "1            -23.0     -35.0\n",
       "0            -20.0      -7.0\n",
       "\n",
       "[822983 rows x 2 columns]"
      ]
     },
     "execution_count": 15,
     "metadata": {},
     "output_type": "execute_result"
    }
   ],
   "source": [
    "raw_data[['NEWENTRIES', 'NEWEXITS']]"
   ]
  },
  {
   "cell_type": "markdown",
   "metadata": {},
   "source": [
    "Our group's analysis of the resulting data shows some problems\n",
    "* negative values, indicating turnstile tickers that count down instead of up\n",
    "* Very large values that indicate a reset of a ticker\n",
    "\n",
    "We take the absolute values for the negative ticker data and set a limit for the maximum reasonable value of people going through a turnstile. Our limit is based on a max of 1 person per second, or 14400 within each 4 hour time window. Anything higher than this number, we replace with 0."
   ]
  },
  {
   "cell_type": "code",
   "execution_count": 16,
   "metadata": {
    "ExecuteTime": {
     "end_time": "2020-07-01T21:27:03.979730Z",
     "start_time": "2020-07-01T21:26:47.084284Z"
    }
   },
   "outputs": [],
   "source": [
    "def get_timeslot_counts_entries(row, max_counter):\n",
    "    if row[\"NEWENTRIES\"] < 0:\n",
    "        # Maybe counter is reversed?\n",
    "        row[\"NEWENTRIES\"] = abs(row[\"NEWENTRIES\"])\n",
    "    if row[\"NEWENTRIES\"] > max_counter:\n",
    "        # Check it again to make sure we're not still giving a counter that's too big\n",
    "        row[\"NEWENTRIES\"] = 0\n",
    "    return row[\"NEWENTRIES\"]\n",
    "\n",
    "raw_data[\"NEWENTRIES\"] = raw_data.apply(get_timeslot_counts_entries, axis=1, max_counter=14400)"
   ]
  },
  {
   "cell_type": "code",
   "execution_count": 17,
   "metadata": {
    "ExecuteTime": {
     "end_time": "2020-07-01T21:27:22.218491Z",
     "start_time": "2020-07-01T21:27:03.983063Z"
    }
   },
   "outputs": [],
   "source": [
    "def get_timeslot_counts_exits(row, max_counter):\n",
    "    if row[\"NEWEXITS\"] < 0:\n",
    "        # Maybe counter is reversed?\n",
    "        row[\"NEWEXITS\"] = abs(row[\"NEWEXITS\"])\n",
    "    if row[\"NEWEXITS\"] > max_counter:\n",
    "        # Check it again to make sure we're not still giving a counter that's too big\n",
    "        row[\"NEWEXITS\"] = 0\n",
    "    return row[\"NEWEXITS\"]\n",
    "\n",
    "raw_data[\"NEWEXITS\"] = raw_data.apply(get_timeslot_counts_exits, axis=1, max_counter=14400)"
   ]
  },
  {
   "cell_type": "markdown",
   "metadata": {},
   "source": [
    "Add up entries and exits for total station traffic."
   ]
  },
  {
   "cell_type": "code",
   "execution_count": 18,
   "metadata": {
    "ExecuteTime": {
     "end_time": "2020-07-01T21:28:25.486596Z",
     "start_time": "2020-07-01T21:28:25.470377Z"
    }
   },
   "outputs": [],
   "source": [
    "raw_data[\"TRAFFIC\"] = raw_data.NEWENTRIES + raw_data.NEWEXITS"
   ]
  },
  {
   "cell_type": "code",
   "execution_count": 19,
   "metadata": {},
   "outputs": [
    {
     "data": {
      "text/plain": [
       "203360    0.0\n",
       "203359    0.0\n",
       "203358    0.0\n",
       "203357    0.0\n",
       "203356    0.0\n",
       "203355    0.0\n",
       "203354    0.0\n",
       "203353    0.0\n",
       "203352    0.0\n",
       "203351    0.0\n",
       "203350    0.0\n",
       "203349    0.0\n",
       "203348    0.0\n",
       "203347    0.0\n",
       "203346    0.0\n",
       "203345    0.0\n",
       "203344    0.0\n",
       "203343    0.0\n",
       "203342    0.0\n",
       "203341    0.0\n",
       "203340    0.0\n",
       "203339    0.0\n",
       "203338    0.0\n",
       "203337    0.0\n",
       "203336    0.0\n",
       "203335    0.0\n",
       "203334    0.0\n",
       "203333    0.0\n",
       "203332    0.0\n",
       "203331    0.0\n",
       "203330    0.0\n",
       "203329    0.0\n",
       "203328    0.0\n",
       "203327    0.0\n",
       "203326    0.0\n",
       "203325    0.0\n",
       "203324    0.0\n",
       "203323    0.0\n",
       "203322    0.0\n",
       "203321    0.0\n",
       "Name: TRAFFIC, dtype: float64"
      ]
     },
     "execution_count": 19,
     "metadata": {},
     "output_type": "execute_result"
    }
   ],
   "source": [
    "raw_data['TRAFFIC'].head(40)"
   ]
  },
  {
   "cell_type": "markdown",
   "metadata": {},
   "source": [
    "Now we can look at the MTA's overall busiest time slots."
   ]
  },
  {
   "cell_type": "code",
   "execution_count": 22,
   "metadata": {},
   "outputs": [
    {
     "data": {
      "text/plain": [
       "TIMESLOT\n",
       "12am - 4am     38.451747\n",
       "12pm - 4pm    438.518050\n",
       "4am - 8am     293.508497\n",
       "4pm - 8pm     527.529506\n",
       "8am - 12pm    400.324722\n",
       "8pm - 12am    201.061364\n",
       "Name: TRAFFIC, dtype: float64"
      ]
     },
     "execution_count": 22,
     "metadata": {},
     "output_type": "execute_result"
    }
   ],
   "source": [
    "raw_data.groupby(['TIMESLOT']).TRAFFIC.mean()"
   ]
  },
  {
   "cell_type": "markdown",
   "metadata": {},
   "source": [
    "Next we can group by station of the busiest stations and find out the best times of day *for those stations*."
   ]
  },
  {
   "cell_type": "code",
   "execution_count": 23,
   "metadata": {},
   "outputs": [
    {
     "ename": "NameError",
     "evalue": "name 'busiest_stations' is not defined",
     "output_type": "error",
     "traceback": [
      "\u001b[0;31m---------------------------------------------------------------------------\u001b[0m",
      "\u001b[0;31mNameError\u001b[0m                                 Traceback (most recent call last)",
      "\u001b[0;32m<ipython-input-23-c16f805b300a>\u001b[0m in \u001b[0;36m<module>\u001b[0;34m\u001b[0m\n\u001b[0;32m----> 1\u001b[0;31m \u001b[0mdata_by_timeslot\u001b[0m \u001b[0;34m=\u001b[0m \u001b[0mbusiest_stations\u001b[0m\u001b[0;34m.\u001b[0m\u001b[0mgroupby\u001b[0m\u001b[0;34m(\u001b[0m\u001b[0;34m[\u001b[0m\u001b[0;34m'STATION'\u001b[0m\u001b[0;34m,\u001b[0m \u001b[0;34m'ID'\u001b[0m\u001b[0;34m,\u001b[0m \u001b[0;34m'TIMESLOT'\u001b[0m\u001b[0;34m]\u001b[0m\u001b[0;34m)\u001b[0m\u001b[0;34m[\u001b[0m\u001b[0;34m'TRAFFIC'\u001b[0m\u001b[0;34m]\u001b[0m\u001b[0;34m.\u001b[0m\u001b[0mmean\u001b[0m\u001b[0;34m(\u001b[0m\u001b[0;34m)\u001b[0m\u001b[0;34m\u001b[0m\u001b[0;34m\u001b[0m\u001b[0m\n\u001b[0m",
      "\u001b[0;31mNameError\u001b[0m: name 'busiest_stations' is not defined"
     ]
    }
   ],
   "source": [
    "#need busiest_stations dataframe to be supplied to it\n",
    "\n",
    "data_by_timeslot = busiest_stations.groupby(['STATION', 'ID', 'TIMESLOT'])['TRAFFIC'].mean()"
   ]
  },
  {
   "cell_type": "code",
   "execution_count": null,
   "metadata": {},
   "outputs": [],
   "source": []
  }
 ],
 "metadata": {
  "kernelspec": {
   "display_name": "Python 3",
   "language": "python",
   "name": "python3"
  },
  "language_info": {
   "codemirror_mode": {
    "name": "ipython",
    "version": 3
   },
   "file_extension": ".py",
   "mimetype": "text/x-python",
   "name": "python",
   "nbconvert_exporter": "python",
   "pygments_lexer": "ipython3",
   "version": "3.7.6"
  }
 },
 "nbformat": 4,
 "nbformat_minor": 4
}
