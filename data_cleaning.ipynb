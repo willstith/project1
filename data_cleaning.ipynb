{
 "cells": [
  {
   "cell_type": "code",
   "execution_count": 52,
   "metadata": {
    "ExecuteTime": {
     "end_time": "2020-07-01T19:40:59.623945Z",
     "start_time": "2020-07-01T19:40:59.613944Z"
    }
   },
   "outputs": [],
   "source": [
    "import pandas as pd\n",
    "import numpy as np\n",
    "import matplotlib.pyplot as plt\n",
    "import datetime\n",
    "from datetime import datetime as dt\n",
    "\n",
    "%matplotlib inline"
   ]
  },
  {
   "cell_type": "code",
   "execution_count": 53,
   "metadata": {
    "ExecuteTime": {
     "end_time": "2020-07-01T19:41:02.101412Z",
     "start_time": "2020-07-01T19:41:00.230755Z"
    }
   },
   "outputs": [],
   "source": [
    "df1 = pd.read_csv(\"/Users/stephan/Data_Science/Metis/Bootcamp/Data_project1/turnstile_190504.txt\")\n",
    "df2 = pd.read_csv(\"/Users/stephan/Data_Science/Metis/Bootcamp/Data_project1/turnstile_190511.txt\")\n",
    "df3 = pd.read_csv(\"/Users/stephan/Data_Science/Metis/Bootcamp/Data_project1/turnstile_190518.txt\")\n",
    "df4 = pd.read_csv(\"/Users/stephan/Data_Science/Metis/Bootcamp/Data_project1/turnstile_190525.txt\")"
   ]
  },
  {
   "cell_type": "markdown",
   "metadata": {},
   "source": [
    "We found that the `EXITS` column contains trailing spaces, so we get rid of those after concatenating"
   ]
  },
  {
   "cell_type": "code",
   "execution_count": 54,
   "metadata": {
    "ExecuteTime": {
     "end_time": "2020-07-01T19:41:02.251065Z",
     "start_time": "2020-07-01T19:41:02.104584Z"
    }
   },
   "outputs": [],
   "source": [
    "raw_data = pd.concat([df1,df2,df3,df4])\n",
    "raw_data.columns = raw_data.columns.str.rstrip()"
   ]
  },
  {
   "cell_type": "markdown",
   "metadata": {},
   "source": [
    "The data is organized by turnstile, but does not have a direct unique identifier for each turnstile. To create one we add the column `ID`, which concatenates into a unique turnstile ID."
   ]
  },
  {
   "cell_type": "code",
   "execution_count": 55,
   "metadata": {
    "ExecuteTime": {
     "end_time": "2020-07-01T19:41:03.904244Z",
     "start_time": "2020-07-01T19:41:03.045849Z"
    },
    "colab": {},
    "colab_type": "code",
    "id": "cm4s0832G35p"
   },
   "outputs": [],
   "source": [
    "# Take the date and time fields into a single datetime column\n",
    "raw_data[\"DATE_TIME\"] = pd.to_datetime(raw_data.DATE + \" \" + raw_data.TIME, \n",
    "                                            format=\"%m/%d/%Y %H:%M:%S\")"
   ]
  },
  {
   "cell_type": "code",
   "execution_count": 56,
   "metadata": {
    "ExecuteTime": {
     "end_time": "2020-07-01T19:41:04.459736Z",
     "start_time": "2020-07-01T19:41:03.907154Z"
    }
   },
   "outputs": [],
   "source": [
    "raw_data[\"ID\"] = raw_data['C/A']+raw_data['UNIT']+raw_data['SCP']+raw_data['STATION']"
   ]
  },
  {
   "cell_type": "markdown",
   "metadata": {},
   "source": [
    "Duplicates"
   ]
  },
  {
   "cell_type": "code",
   "execution_count": 57,
   "metadata": {
    "ExecuteTime": {
     "end_time": "2020-07-01T19:41:33.929617Z",
     "start_time": "2020-07-01T19:41:33.112926Z"
    },
    "colab": {},
    "colab_type": "code",
    "id": "rnyDrnbjG36C",
    "outputId": "e91abcc8-0eca-4a12-9505-141ceb245fb4"
   },
   "outputs": [
    {
     "data": {
      "text/html": [
       "<div>\n",
       "<style scoped>\n",
       "    .dataframe tbody tr th:only-of-type {\n",
       "        vertical-align: middle;\n",
       "    }\n",
       "\n",
       "    .dataframe tbody tr th {\n",
       "        vertical-align: top;\n",
       "    }\n",
       "\n",
       "    .dataframe thead th {\n",
       "        text-align: right;\n",
       "    }\n",
       "</style>\n",
       "<table border=\"1\" class=\"dataframe\">\n",
       "  <thead>\n",
       "    <tr style=\"text-align: right;\">\n",
       "      <th></th>\n",
       "      <th>ID</th>\n",
       "      <th>DATE_TIME</th>\n",
       "      <th>ENTRIES</th>\n",
       "    </tr>\n",
       "  </thead>\n",
       "  <tbody>\n",
       "    <tr>\n",
       "      <th>118612</th>\n",
       "      <td>G009R15102-00-04CONEY IS-STILLW</td>\n",
       "      <td>2019-05-16 17:00:00</td>\n",
       "      <td>2</td>\n",
       "    </tr>\n",
       "    <tr>\n",
       "      <th>118444</th>\n",
       "      <td>G009R15102-00-03CONEY IS-STILLW</td>\n",
       "      <td>2019-05-16 17:00:00</td>\n",
       "      <td>2</td>\n",
       "    </tr>\n",
       "    <tr>\n",
       "      <th>408244</th>\n",
       "      <td>N525R14201-00-03DELANCEY/ESSEX</td>\n",
       "      <td>2019-05-11 05:00:00</td>\n",
       "      <td>2</td>\n",
       "    </tr>\n",
       "    <tr>\n",
       "      <th>408415</th>\n",
       "      <td>N525R14201-00-04DELANCEY/ESSEX</td>\n",
       "      <td>2019-05-11 05:00:00</td>\n",
       "      <td>2</td>\n",
       "    </tr>\n",
       "    <tr>\n",
       "      <th>0</th>\n",
       "      <td>A002R05102-00-0059 ST</td>\n",
       "      <td>2019-04-27 00:00:00</td>\n",
       "      <td>1</td>\n",
       "    </tr>\n",
       "  </tbody>\n",
       "</table>\n",
       "</div>"
      ],
      "text/plain": [
       "                                     ID           DATE_TIME  ENTRIES\n",
       "118612  G009R15102-00-04CONEY IS-STILLW 2019-05-16 17:00:00        2\n",
       "118444  G009R15102-00-03CONEY IS-STILLW 2019-05-16 17:00:00        2\n",
       "408244   N525R14201-00-03DELANCEY/ESSEX 2019-05-11 05:00:00        2\n",
       "408415   N525R14201-00-04DELANCEY/ESSEX 2019-05-11 05:00:00        2\n",
       "0                 A002R05102-00-0059 ST 2019-04-27 00:00:00        1"
      ]
     },
     "execution_count": 57,
     "metadata": {},
     "output_type": "execute_result"
    }
   ],
   "source": [
    "# Sanity Check to verify that \"C/A\", \"UNIT\", \"SCP\", \"STATION\", \"DATE_TIME\" is unique\n",
    "(raw_data\n",
    " .groupby([\"ID\", \"DATE_TIME\"])\n",
    " .ENTRIES.count()\n",
    " .reset_index()\n",
    " .sort_values(\"ENTRIES\", ascending=False)).head(5)"
   ]
  },
  {
   "cell_type": "code",
   "execution_count": 58,
   "metadata": {
    "ExecuteTime": {
     "end_time": "2020-07-01T19:41:43.267702Z",
     "start_time": "2020-07-01T19:41:42.285922Z"
    },
    "colab": {},
    "colab_type": "code",
    "id": "xrmUE6NWG36O"
   },
   "outputs": [],
   "source": [
    "# Get rid of the duplicate entry\n",
    "raw_data.sort_values([\"ID\", \"DATE_TIME\"], \n",
    "                          inplace=True, ascending=False)\n",
    "raw_data.drop_duplicates(subset=[\"ID\", \"DATE_TIME\"], inplace=True)"
   ]
  },
  {
   "cell_type": "markdown",
   "metadata": {},
   "source": [
    "In our design phase we decided to give our recommendations to the client in the form of stations to canvas, so we will group our data by station. We also move towards daily entries and exits instead of per 4 hours.\n",
    "\n",
    "The data given for `ENTRIES` and `EXITS` is cumulative, so aggregating by the max for each day gives us the cumulative count at the end of each day."
   ]
  },
  {
   "cell_type": "code",
   "execution_count": 72,
   "metadata": {
    "ExecuteTime": {
     "end_time": "2020-07-01T20:08:36.671535Z",
     "start_time": "2020-07-01T20:08:36.275889Z"
    }
   },
   "outputs": [
    {
     "name": "stderr",
     "output_type": "stream",
     "text": [
      "<ipython-input-72-e4c4f74c44e4>:1: FutureWarning: Indexing with multiple keys (implicitly converted to a tuple of keys) will be deprecated, use a list instead.\n",
      "  data_by_station = raw_data.groupby(['STATION','ID','DATE'])['ENTRIES', 'EXITS'].first().diff()\n"
     ]
    }
   ],
   "source": [
    "data_by_station = raw_data.groupby(['STATION','ID','DATE'])['ENTRIES', 'EXITS'].first().diff()\n",
    "data_by_station.reset_index()\n",
    "data_by_station.dropna(subset=[\"ENTRIES\",\"EXITS\"], axis=0, inplace=True)"
   ]
  },
  {
   "cell_type": "code",
   "execution_count": 98,
   "metadata": {
    "ExecuteTime": {
     "end_time": "2020-07-01T21:01:32.224838Z",
     "start_time": "2020-07-01T21:01:11.442858Z"
    }
   },
   "outputs": [],
   "source": [
    "def get_daily_counts_entries(row, max_counter):\n",
    "    if row[\"ENTRIES\"] < 0:\n",
    "        # Maybe counter is reversed?\n",
    "        row[\"ENTRIES\"] = abs(row[\"ENTRIES\"])\n",
    "    if row[\"ENTRIES\"] > max_counter:\n",
    "        # Check it again to make sure we're not still giving a counter that's too big\n",
    "        row[\"ENTRIES\"] = 0\n",
    "    return row[\"ENTRIES\"]\n",
    "\n",
    "# If counter is > 1Million, then the counter might have been reset.  \n",
    "# Just set it to zero as different counters have different cycle limits\n",
    "# It'd probably be a good idea to use a number even significantly smaller than 1 million as the limit!\n",
    "data_by_station[\"ENTRIES\"] = data_by_station.apply(get_daily_counts_entries, axis=1, max_counter=86400)\n",
    "# 1 person per second through individual turnstile, 86400 seconds in a day"
   ]
  },
  {
   "cell_type": "code",
   "execution_count": 96,
   "metadata": {
    "ExecuteTime": {
     "end_time": "2020-07-01T20:58:31.824369Z",
     "start_time": "2020-07-01T20:56:48.239524Z"
    }
   },
   "outputs": [],
   "source": [
    "test = data_by_station.groupby(['STATION','ID','DATE'])['ENTRIES'].fillna(method='ffill')"
   ]
  },
  {
   "cell_type": "code",
   "execution_count": 97,
   "metadata": {
    "ExecuteTime": {
     "end_time": "2020-07-01T20:58:39.883596Z",
     "start_time": "2020-07-01T20:58:39.827256Z"
    }
   },
   "outputs": [
    {
     "data": {
      "text/plain": [
       "ID                              DATE      \n",
       "TRAM2R46900-00-00RIT-ROOSEVELT  04/27/2019       NaN\n",
       "                                04/28/2019    1353.0\n",
       "                                04/29/2019    1511.0\n",
       "                                04/30/2019    1250.0\n",
       "                                05/01/2019    1336.0\n",
       "                                               ...  \n",
       "TRAM2R46900-05-01RIT-ROOSEVELT  05/20/2019       0.0\n",
       "                                05/21/2019       0.0\n",
       "                                05/22/2019       0.0\n",
       "                                05/23/2019       0.0\n",
       "                                05/24/2019       0.0\n",
       "Name: ENTRIES, Length: 168, dtype: float64"
      ]
     },
     "execution_count": 97,
     "metadata": {},
     "output_type": "execute_result"
    }
   ],
   "source": [
    "test.loc['RIT-ROOSEVELT']"
   ]
  },
  {
   "cell_type": "code",
   "execution_count": null,
   "metadata": {},
   "outputs": [],
   "source": []
  }
 ],
 "metadata": {
  "kernelspec": {
   "display_name": "Python [conda env:metis] *",
   "language": "python",
   "name": "conda-env-metis-py"
  },
  "language_info": {
   "codemirror_mode": {
    "name": "ipython",
    "version": 3
   },
   "file_extension": ".py",
   "mimetype": "text/x-python",
   "name": "python",
   "nbconvert_exporter": "python",
   "pygments_lexer": "ipython3",
   "version": "3.8.3"
  }
 },
 "nbformat": 4,
 "nbformat_minor": 4
}
